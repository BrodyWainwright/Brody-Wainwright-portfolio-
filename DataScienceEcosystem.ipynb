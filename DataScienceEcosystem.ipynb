{
 "cells": [
  {
   "cell_type": "markdown",
   "id": "a7c3decf-3591-432d-b1c4-61e93c262021",
   "metadata": {},
   "source": [
    "# Data Science Tools and Ecosystem"
   ]
  },
  {
   "cell_type": "markdown",
   "id": "cf110491-7fa1-441d-958e-9e877ed10f4c",
   "metadata": {},
   "source": [
    "In this notebook, Data Science Tools and Ecosystem are summarized."
   ]
  },
  {
   "cell_type": "markdown",
   "id": "dc560ac7-1f8f-4549-859b-afb6a5fa1a9a",
   "metadata": {
    "tags": []
   },
   "source": [
    "**Objectives :**\n",
    "- List popular languages for Data Science\n",
    "- List Commonly used libraries for Data Scientists\n",
    "- Show Arithmetic expressions in Python\n",
    "- Convert minutes to hours in Python"
   ]
  },
  {
   "cell_type": "markdown",
   "id": "2c962095-baa1-4311-8ef5-c1b4826f2f3b",
   "metadata": {},
   "source": [
    "Some of the popular languages that Data Scientists use are:\n",
    "1. Python\n",
    "2. Julia \n",
    "3. SQL\n",
    "4. R"
   ]
  },
  {
   "cell_type": "markdown",
   "id": "78204669-0a65-4d8c-bdc1-282d7a44b401",
   "metadata": {},
   "source": [
    "Some of the commonly used libraries used by Data Scientists include:\n",
    "1. TensorFlow\n",
    "2. Numpy\n",
    "3. Matplotlib\n",
    "4. Keras\n",
    "5. Pandas\n",
    "6. PyTorch\n"
   ]
  },
  {
   "cell_type": "markdown",
   "id": "5b8c51c0-8418-4638-8ada-85b749f6fec8",
   "metadata": {
    "tags": []
   },
   "source": [
    "| Data Science Tools |\n",
    "| -------------|\n",
    "| Rstudio |\n",
    "| Jupyter Notebook |\n",
    "| Spyder |"
   ]
  },
  {
   "cell_type": "markdown",
   "id": "db039561-4e18-4e94-ba21-bd5ab4c15ea7",
   "metadata": {},
   "source": [
    "### Below are a few examples of evaluating arithmetic expressions in Python"
   ]
  },
  {
   "cell_type": "code",
   "execution_count": 6,
   "id": "3b508f8d-d25a-4b8f-9e01-77420b0af2ea",
   "metadata": {
    "tags": []
   },
   "outputs": [
    {
     "data": {
      "text/plain": [
       "17"
      ]
     },
     "execution_count": 6,
     "metadata": {},
     "output_type": "execute_result"
    }
   ],
   "source": [
    "# This a simple arithmetic expression to mutiply then add integers\n",
    "(3*4)+5"
   ]
  },
  {
   "cell_type": "code",
   "execution_count": 9,
   "id": "08e9beb0-5368-4397-9acd-28b54dda0c9c",
   "metadata": {
    "tags": []
   },
   "outputs": [
    {
     "data": {
      "text/plain": [
       "3.3333333333333335"
      ]
     },
     "execution_count": 9,
     "metadata": {},
     "output_type": "execute_result"
    }
   ],
   "source": [
    "# This will convert 200 minutes to hours by dividing by 60\n",
    "200/60 "
   ]
  },
  {
   "cell_type": "markdown",
   "id": "4e18416a-b8e8-41e5-bc02-151209b8a365",
   "metadata": {},
   "source": [
    "## Author\n",
    "Brody Wainwright"
   ]
  },
  {
   "cell_type": "code",
   "execution_count": null,
   "id": "211fd614-2cde-4e98-9775-52cd9dc8908b",
   "metadata": {},
   "outputs": [],
   "source": []
  }
 ],
 "metadata": {
  "kernelspec": {
   "display_name": "Python",
   "language": "python",
   "name": "conda-env-python-py"
  },
  "language_info": {
   "codemirror_mode": {
    "name": "ipython",
    "version": 3
   },
   "file_extension": ".py",
   "mimetype": "text/x-python",
   "name": "python",
   "nbconvert_exporter": "python",
   "pygments_lexer": "ipython3",
   "version": "3.7.12"
  }
 },
 "nbformat": 4,
 "nbformat_minor": 5
}
